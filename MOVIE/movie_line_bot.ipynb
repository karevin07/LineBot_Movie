{
 "cells": [
  {
   "cell_type": "code",
   "execution_count": 1,
   "metadata": {
    "collapsed": true
   },
   "outputs": [],
   "source": [
    "'''\n",
    "\n",
    "載入設定檔\n",
    "\n",
    "'''\n",
    "\n",
    "import json\n",
    "\n",
    "secretFileContentJson=json.load(open(\"../line_secret_key\",'r'))\n",
    "server_url=secretFileContentJson.get(\"server_url\")"
   ]
  },
  {
   "cell_type": "markdown",
   "metadata": {},
   "source": [
    "# SQLITE3"
   ]
  },
  {
   "cell_type": "code",
   "execution_count": 3,
   "metadata": {
    "collapsed": true
   },
   "outputs": [],
   "source": [
    "import sqlite3"
   ]
  },
  {
   "cell_type": "code",
   "execution_count": 126,
   "metadata": {
    "collapsed": true
   },
   "outputs": [],
   "source": [
    "sql = '''\n",
    "        select C_name0,(C_name1||' '||E_name1),(C_name2||' '||E_name2),(C_name3||' '||E_name3),url1,url2,url3\n",
    "        from Movie_cf\n",
    "        where C_name0 like '%{}%';\n",
    "    '''\n",
    "sql2 = '''\n",
    "        select (C_name||' '||E_name),url\n",
    "        from Movie_km\n",
    "        where class2 like '%{}%'\n",
    "        ORDER BY RANDOM()\n",
    "        limit 3;\n",
    "    '''\n",
    "def get_3cf_movies(string):\n",
    "    conn = sqlite3.connect('../data/movie_cf.db')\n",
    "    cur = conn.cursor()\n",
    "    if(cur.execute(sql.format(string))):\n",
    "        out = cur.fetchone()\n",
    "    else:\n",
    "        out = \"抱歉，搜尋不到你要的電影\"\n",
    "    if(out != \"抱歉，搜尋不到你要的電影\"):\n",
    "        output = []\n",
    "        output.append(\"你輸入的電影是:  \"+out[0]+\"\\n\")\n",
    "        output.append(out[1]+\"\\n\" + out[4]+\"\\n\")\n",
    "        output.append(out[2]+\"\\n\"+ out[5]+\"\\n\")\n",
    "        output.append(out[3]+\"\\n\" + out[6]+\"\\n\")\n",
    "        conn.commit()\n",
    "        conn.close()\n",
    "        return output\n",
    "def get_3km_movies(string):\n",
    "    conn = sqlite3.connect('../data/movie_km.db')\n",
    "    cur = conn.cursor()\n",
    "\n",
    "    if(cur.execute(sql2.format(string))):\n",
    "        out = cur.fetchall()\n",
    "    else:\n",
    "        out = \"抱歉，搜尋不到你要的電影\"\n",
    "    if(out != \"抱歉，搜尋不到你要的電影\"):\n",
    "        output = []\n",
    "        output.append(\"為你推薦以下三部電影\")\n",
    "        output.append(out[0][0]+\"\\n\" + out[0][1])\n",
    "        output.append(out[1][0]+\"\\n\" + out[1][1])\n",
    "        output.append(out[2][0]+\"\\n\" + out[2][1])\n",
    "    conn.commit()\n",
    "    conn.close()\n",
    "    return output"
   ]
  },
  {
   "cell_type": "code",
   "execution_count": 5,
   "metadata": {},
   "outputs": [
    {
     "data": {
      "text/plain": [
       "['哥吉拉 Godzilla\\nhttp://www.imdb.com/title/tt0831387\\n',\n",
       " '馴龍高手2 How to Train Your Dragon 2\\nhttp://www.imdb.com/title/tt1646971\\n',\n",
       " '猩球崛起 Rise of the Planet of the Apes\\nhttp://www.imdb.com/title/tt1318514\\n']"
      ]
     },
     "execution_count": 5,
     "metadata": {},
     "output_type": "execute_result"
    }
   ],
   "source": [
    "get_3km_movies(\"動作英雄\")"
   ]
  },
  {
   "cell_type": "code",
   "execution_count": 6,
   "metadata": {
    "collapsed": true
   },
   "outputs": [],
   "source": [
    "import requests\n",
    "from bs4 import BeautifulSoup\n",
    "\n",
    "def movie():\n",
    "    target_url = 'http://www.atmovies.com.tw/movie/next/0/'\n",
    "    print('Start parsing movie ...')\n",
    "    rs = requests.session()\n",
    "    res = rs.get(target_url, verify=False)\n",
    "    res.encoding = 'utf-8'\n",
    "    soup = BeautifulSoup(res.text, 'html.parser')\n",
    "    content = \"\"\n",
    "    for index, data in enumerate(soup.select('ul.filmNextListAll a')):\n",
    "        if index == 5:\n",
    "            return content\n",
    "        title = data.text.replace('\\t', '').replace('\\r', '')\n",
    "        link = \"http://www.atmovies.com.tw\" + data['href']\n",
    "        content += '{}\\n{}\\n'.format(title, link)\n",
    "    return content"
   ]
  },
  {
   "cell_type": "code",
   "execution_count": 7,
   "metadata": {},
   "outputs": [
    {
     "name": "stdout",
     "output_type": "stream",
     "text": [
      "Start parsing movie ...\n"
     ]
    },
    {
     "data": {
      "text/plain": [
       "'\\n最酷的旅伴\\nhttp://www.atmovies.com.tw/movie/fvfr55598102/\\n\\n卡拉絲：為愛而聲\\nhttp://www.atmovies.com.tw/movie/fmen77364566/\\n\\n比得兔\\nhttp://www.atmovies.com.tw/movie/fpen35117670/\\n\\n恩德培行動\\nhttp://www.atmovies.com.tw/movie/feen55466186/\\n\\n魔女席瑪\\nhttp://www.atmovies.com.tw/movie/ftno26304046/\\n'"
      ]
     },
     "execution_count": 7,
     "metadata": {},
     "output_type": "execute_result"
    }
   ],
   "source": [
    "movie()"
   ]
  },
  {
   "cell_type": "code",
   "execution_count": 8,
   "metadata": {
    "collapsed": true
   },
   "outputs": [],
   "source": [
    "'''\n",
    "\n",
    "Template Message\n",
    "    分成四種\n",
    "        Buttons\n",
    "        Confirm\n",
    "        Carousel\n",
    "        Image Carousel\n",
    "\n",
    "'''\n",
    "from linebot.models import (\n",
    "    MessageEvent, TemplateSendMessage \n",
    ")\n",
    "\n",
    "from linebot.models.template import(\n",
    "    ButtonsTemplate, \n",
    "    PostbackTemplateAction,\n",
    "    MessageTemplateAction,\n",
    "    URITemplateAction,\n",
    "    DatetimePickerTemplateAction\n",
    ")\n",
    "from linebot.models.template import (\n",
    "    CarouselTemplate, CarouselColumn\n",
    ")\n"
   ]
  },
  {
   "cell_type": "code",
   "execution_count": 19,
   "metadata": {
    "collapsed": true
   },
   "outputs": [],
   "source": [
    "'''\n",
    "\n",
    "Button篇\n",
    "\n",
    "\n",
    " '''\n",
    "\n",
    "\n",
    "movie_km_buttons_template_message = TemplateSendMessage(\n",
    "    alt_text='Buttons template',\n",
    "    template=ButtonsTemplate(\n",
    "        thumbnail_image_url=secretFileContentJson.get(\"server_url\")+'/images/eddie.jpg',\n",
    "        title='恐怖驚悚',\n",
    "        text='Please select',\n",
    "        actions=[\n",
    "            URITemplateAction(\n",
    "                label='協同過濾',\n",
    "                url='http://www.imdb.com/title/tt5308322'\n",
    "            ),\n",
    "            URITemplateAction(\n",
    "                label='分類推薦',\n",
    "                url='http://www.imdb.com/title/tt5308322'\n",
    "            ),\n",
    "            URITemplateAction(\n",
    "                label='近期上映',\n",
    "                url='http://www.imdb.com/title/tt5308322'\n",
    "            )\n",
    "        ]\n",
    "    )\n",
    ")\n",
    "\n"
   ]
  },
  {
   "cell_type": "code",
   "execution_count": 20,
   "metadata": {
    "collapsed": true
   },
   "outputs": [],
   "source": [
    "def get_3km_template(string):\n",
    "    movie_km_buttons_template_message = TemplateSendMessage(\n",
    "    alt_text='Buttons template',\n",
    "    template=ButtonsTemplate(\n",
    "        thumbnail_image_url=secretFileContentJson.get(\"server_url\")+'/images/eddie.jpg',\n",
    "        title=string,\n",
    "        text='Please select',\n",
    "        actions=[\n",
    "            URITemplateAction(\n",
    "                label=get_3km_movies(\"恐怖驚悚\")[0][0],\n",
    "                url=get_3km_movies(\"恐怖驚悚\")[0][1]\n",
    "            ),\n",
    "            URITemplateAction(\n",
    "                label=get_3km_movies(\"恐怖驚悚\")[1][0],\n",
    "                url=get_3km_movies(\"恐怖驚悚\")[1][1]\n",
    "            ),\n",
    "            URITemplateAction(\n",
    "                label=get_3km_movies(\"恐怖驚悚\")[2][0],\n",
    "                url=get_3km_movies(\"恐怖驚悚\")[2][1]\n",
    "            )\n",
    "        ]\n",
    "    )\n",
    ")\n",
    "    return movie_km_buttons_template_message"
   ]
  },
  {
   "cell_type": "code",
   "execution_count": 10,
   "metadata": {
    "collapsed": true
   },
   "outputs": [],
   "source": [
    "'''\n",
    "\n",
    "Carousel篇\n",
    "\n",
    "'''\n",
    "\n",
    "from linebot.models.template import (\n",
    "    CarouselTemplate, CarouselColumn\n",
    ")\n",
    "\n",
    "carousel_template_message = TemplateSendMessage(\n",
    "    alt_text='Carousel template',\n",
    "    template=CarouselTemplate(\n",
    "        columns=[\n",
    "            CarouselColumn(\n",
    "                thumbnail_image_url='https://%s/images/janine/janine.jpg' % server_url,\n",
    "                title='恐怖',\n",
    "                text='請選出你最感興趣的類別',\n",
    "                actions=[\n",
    "                    MessageTemplateAction(\n",
    "                        label='恐怖驚悚',\n",
    "                        text='恐怖驚悚'\n",
    "                    ),\n",
    "                    MessageTemplateAction(\n",
    "                        label='殭屍',\n",
    "                        text='殭屍'\n",
    "                    ),\n",
    "                    MessageTemplateAction(\n",
    "                        label='現代風格',\n",
    "                        text='現代風格'\n",
    "                    )\n",
    "                ]\n",
    "            ),\n",
    "            CarouselColumn(\n",
    "                thumbnail_image_url='https://%s/images/janine/janine.jpg' % server_url,\n",
    "                title='動作',\n",
    "                text='請選出你最感興趣的類別',\n",
    "                actions=[\n",
    "                    MessageTemplateAction(\n",
    "                        label='動作武打',\n",
    "                        text='動作武打'\n",
    "                    ),\n",
    "                    MessageTemplateAction(\n",
    "                        label='動作英雄',\n",
    "                        text='動作英雄'\n",
    "                    ),\n",
    "                    MessageTemplateAction(\n",
    "                        label='動作戰爭',\n",
    "                        text='動作戰爭'\n",
    "                    )\n",
    "                ]\n",
    "            ),\n",
    "            CarouselColumn(\n",
    "                thumbnail_image_url='https://%s/images/janine/janine.jpg' % server_url,\n",
    "                title='喜劇',\n",
    "                text='請選出你最感興趣的類別',\n",
    "                actions=[\n",
    "                    MessageTemplateAction(\n",
    "                        label='家庭喜劇',\n",
    "                        text='家庭喜劇'\n",
    "                    ),\n",
    "                    MessageTemplateAction(\n",
    "                        label='愛情喜劇',\n",
    "                        text='愛情喜劇'\n",
    "                    ),\n",
    "                    MessageTemplateAction(\n",
    "                        label='動畫喜劇',\n",
    "                        text='動畫喜劇'\n",
    "                    )\n",
    "                ]\n",
    "            ),\n",
    "            CarouselColumn(\n",
    "                thumbnail_image_url='https://%s/images/janine/janine.jpg' % server_url,\n",
    "                title='科幻',\n",
    "                text='請選出你最感興趣的類別',\n",
    "                actions=[\n",
    "                    MessageTemplateAction(\n",
    "                        label='外星科幻',\n",
    "                        text='外星科幻'\n",
    "                    ),\n",
    "                    MessageTemplateAction(\n",
    "                        label='科幻奇幻',\n",
    "                        text='科幻奇幻'\n",
    "                    ),\n",
    "                    MessageTemplateAction(\n",
    "                        label='科幻動作',\n",
    "                        text='科幻動作'\n",
    "                    )\n",
    "                ]\n",
    "            ),\n",
    "            CarouselColumn(\n",
    "                thumbnail_image_url='https://%s/images/janine/janine2.jpg' % server_url,\n",
    "                title='劇情',\n",
    "                text='請選出你最感興趣的類別',\n",
    "                actions=[\n",
    "                    MessageTemplateAction(\n",
    "                        label='劇情傳記',\n",
    "                        text='劇情傳記'\n",
    "                    ),\n",
    "                    MessageTemplateAction(\n",
    "                        label='懸疑推理',\n",
    "                        text='懸疑推理'\n",
    "                    ),\n",
    "                    MessageTemplateAction(\n",
    "                        label='社會寫實',\n",
    "                        text='社會寫實'\n",
    "                    )\n",
    "                ]\n",
    "            )\n",
    "        ]\n",
    "    )\n",
    ")"
   ]
  },
  {
   "cell_type": "code",
   "execution_count": 150,
   "metadata": {},
   "outputs": [
    {
     "name": "stderr",
     "output_type": "stream",
     "text": [
      " * Running on http://0.0.0.0:5000/ (Press CTRL+C to quit)\n"
     ]
    },
    {
     "name": "stdout",
     "output_type": "stream",
     "text": [
      "動畫喜劇\n",
      "分類\n",
      "['為你推薦以下三部電影', '腦筋急轉彎 Inside Out\\nhttp://www.imdb.com/title/tt2096673', '可可夜總會 Coco\\nhttp://www.imdb.com/title/tt2380307', '你的名字 Kimi no na wa.\\nhttp://www.imdb.com/title/tt5311514']\n"
     ]
    },
    {
     "name": "stderr",
     "output_type": "stream",
     "text": [
      "172.17.0.3 - - [30/Mar/2018 06:35:49] \"POST / HTTP/1.1\" 200 -\n",
      "172.17.0.3 - - [30/Mar/2018 06:35:57] \"POST / HTTP/1.1\" 200 -\n"
     ]
    },
    {
     "name": "stdout",
     "output_type": "stream",
     "text": [
      "分類推薦\n"
     ]
    },
    {
     "name": "stderr",
     "output_type": "stream",
     "text": [
      "[2018-03-30 06:36:00,756] ERROR in app: Exception on / [POST]\n",
      "Traceback (most recent call last):\n",
      "  File \"/opt/conda/lib/python3.6/site-packages/flask/app.py\", line 1982, in wsgi_app\n",
      "    response = self.full_dispatch_request()\n",
      "  File \"/opt/conda/lib/python3.6/site-packages/flask/app.py\", line 1614, in full_dispatch_request\n",
      "    rv = self.handle_user_exception(e)\n",
      "  File \"/opt/conda/lib/python3.6/site-packages/flask/app.py\", line 1517, in handle_user_exception\n",
      "    reraise(exc_type, exc_value, tb)\n",
      "  File \"/opt/conda/lib/python3.6/site-packages/flask/_compat.py\", line 33, in reraise\n",
      "    raise value\n",
      "  File \"/opt/conda/lib/python3.6/site-packages/flask/app.py\", line 1612, in full_dispatch_request\n",
      "    rv = self.dispatch_request()\n",
      "  File \"/opt/conda/lib/python3.6/site-packages/flask/app.py\", line 1598, in dispatch_request\n",
      "    return self.view_functions[rule.endpoint](**req.view_args)\n",
      "  File \"<ipython-input-150-55af8c245171>\", line 52, in callback\n",
      "    handler.handle(body, signature)\n",
      "  File \"/opt/conda/lib/python3.6/site-packages/linebot/webhook.py\", line 227, in handle\n",
      "    func(event)\n",
      "  File \"<ipython-input-150-55af8c245171>\", line 137, in handle_message\n",
      "    line_bot_api.reply_message(event.reply_token, km_buttons_template_message)\n",
      "  File \"/opt/conda/lib/python3.6/site-packages/linebot/api.py\", line 94, in reply_message\n",
      "    '/v2/bot/message/reply', data=json.dumps(data), timeout=timeout\n",
      "  File \"/opt/conda/lib/python3.6/site-packages/linebot/api.py\", line 372, in _post\n",
      "    self.__check_error(response)\n",
      "  File \"/opt/conda/lib/python3.6/site-packages/linebot/api.py\", line 381, in __check_error\n",
      "    raise LineBotApiError(response.status_code, error)\n",
      "linebot.exceptions.LineBotApiError: <LineBotApiError [A message (messages[0]) in the request body is invalid]>\n",
      "172.17.0.3 - - [30/Mar/2018 06:36:00] \"POST / HTTP/1.1\" 500 -\n"
     ]
    },
    {
     "name": "stdout",
     "output_type": "stream",
     "text": [
      "劇情傳記\n",
      "分類\n",
      "['為你推薦以下三部電影', '地獄 Inferno\\nhttp://www.imdb.com/title/tt3062096', '寂寞拍賣師 La migliore offerta\\nhttp://www.imdb.com/title/tt1924396', '比海還深 Umi yori mo mada fukaku\\nhttp://www.imdb.com/title/tt5294966']\n"
     ]
    },
    {
     "name": "stderr",
     "output_type": "stream",
     "text": [
      "172.17.0.3 - - [30/Mar/2018 06:36:04] \"POST / HTTP/1.1\" 200 -\n"
     ]
    },
    {
     "name": "stdout",
     "output_type": "stream",
     "text": [
      "懸疑推理\n",
      "分類\n",
      "['為你推薦以下三部電影', '絕命連線 The Call\\nhttp://www.imdb.com/title/tt1911644', '控制 Gone Girl\\nhttp://www.imdb.com/title/tt2267998', '出神入化 Now You See Me\\nhttp://www.imdb.com/title/tt1670345']\n",
      "社會寫實\n",
      "分類\n",
      "['為你推薦以下三部電影', '我只是個計程車司機 Taeksi Woonjunsa\\nhttp://www.imdb.com/title/tt6878038', \"孩子 L'enfant\\nhttp://www.imdb.com/title/tt0456396\", '驚爆焦點 Spotlight\\nhttp://www.imdb.com/title/tt1895587']\n"
     ]
    },
    {
     "name": "stderr",
     "output_type": "stream",
     "text": [
      "[2018-03-30 06:36:08,613] ERROR in app: Exception on / [POST]\n",
      "Traceback (most recent call last):\n",
      "  File \"/opt/conda/lib/python3.6/site-packages/flask/app.py\", line 1982, in wsgi_app\n",
      "    response = self.full_dispatch_request()\n",
      "  File \"/opt/conda/lib/python3.6/site-packages/flask/app.py\", line 1614, in full_dispatch_request\n",
      "    rv = self.handle_user_exception(e)\n",
      "  File \"/opt/conda/lib/python3.6/site-packages/flask/app.py\", line 1517, in handle_user_exception\n",
      "    reraise(exc_type, exc_value, tb)\n",
      "  File \"/opt/conda/lib/python3.6/site-packages/flask/_compat.py\", line 33, in reraise\n",
      "    raise value\n",
      "  File \"/opt/conda/lib/python3.6/site-packages/flask/app.py\", line 1612, in full_dispatch_request\n",
      "    rv = self.dispatch_request()\n",
      "  File \"/opt/conda/lib/python3.6/site-packages/flask/app.py\", line 1598, in dispatch_request\n",
      "    return self.view_functions[rule.endpoint](**req.view_args)\n",
      "  File \"<ipython-input-150-55af8c245171>\", line 52, in callback\n",
      "    handler.handle(body, signature)\n",
      "  File \"/opt/conda/lib/python3.6/site-packages/linebot/webhook.py\", line 227, in handle\n",
      "    func(event)\n",
      "  File \"<ipython-input-150-55af8c245171>\", line 137, in handle_message\n",
      "    line_bot_api.reply_message(event.reply_token, km_buttons_template_message)\n",
      "  File \"/opt/conda/lib/python3.6/site-packages/linebot/api.py\", line 94, in reply_message\n",
      "    '/v2/bot/message/reply', data=json.dumps(data), timeout=timeout\n",
      "  File \"/opt/conda/lib/python3.6/site-packages/linebot/api.py\", line 372, in _post\n",
      "    self.__check_error(response)\n",
      "  File \"/opt/conda/lib/python3.6/site-packages/linebot/api.py\", line 381, in __check_error\n",
      "    raise LineBotApiError(response.status_code, error)\n",
      "linebot.exceptions.LineBotApiError: <LineBotApiError [A message (messages[0]) in the request body is invalid]>\n",
      "172.17.0.3 - - [30/Mar/2018 06:36:08] \"POST / HTTP/1.1\" 500 -\n",
      "172.17.0.3 - - [30/Mar/2018 06:36:17] \"POST / HTTP/1.1\" 200 -\n"
     ]
    },
    {
     "name": "stdout",
     "output_type": "stream",
     "text": [
      "科幻奇幻\n",
      "分類\n",
      "['為你推薦以下三部電影', '遺落戰境 Oblivion\\nhttp://www.imdb.com/title/tt1483013', '超時空攔截 Predestination\\nhttp://www.imdb.com/title/tt2397535', '末日列車 Snowpiercer\\nhttp://www.imdb.com/title/tt1706620']\n",
      "科幻動作\n",
      "分類\n",
      "['為你推薦以下三部電影', '金剛 King Kong\\nhttp://www.imdb.com/title/tt0360717', 'X戰警：未來昔日 X-Men: Days of Future Past\\nhttp://www.imdb.com/title/tt1877832', '變形金剛 Transformers\\nhttp://www.imdb.com/title/tt0418279']\n"
     ]
    },
    {
     "name": "stderr",
     "output_type": "stream",
     "text": [
      "[2018-03-30 06:36:25,719] ERROR in app: Exception on / [POST]\n",
      "Traceback (most recent call last):\n",
      "  File \"/opt/conda/lib/python3.6/site-packages/flask/app.py\", line 1982, in wsgi_app\n",
      "    response = self.full_dispatch_request()\n",
      "  File \"/opt/conda/lib/python3.6/site-packages/flask/app.py\", line 1614, in full_dispatch_request\n",
      "    rv = self.handle_user_exception(e)\n",
      "  File \"/opt/conda/lib/python3.6/site-packages/flask/app.py\", line 1517, in handle_user_exception\n",
      "    reraise(exc_type, exc_value, tb)\n",
      "  File \"/opt/conda/lib/python3.6/site-packages/flask/_compat.py\", line 33, in reraise\n",
      "    raise value\n",
      "  File \"/opt/conda/lib/python3.6/site-packages/flask/app.py\", line 1612, in full_dispatch_request\n",
      "    rv = self.dispatch_request()\n",
      "  File \"/opt/conda/lib/python3.6/site-packages/flask/app.py\", line 1598, in dispatch_request\n",
      "    return self.view_functions[rule.endpoint](**req.view_args)\n",
      "  File \"<ipython-input-150-55af8c245171>\", line 52, in callback\n",
      "    handler.handle(body, signature)\n",
      "  File \"/opt/conda/lib/python3.6/site-packages/linebot/webhook.py\", line 227, in handle\n",
      "    func(event)\n",
      "  File \"<ipython-input-150-55af8c245171>\", line 137, in handle_message\n",
      "    line_bot_api.reply_message(event.reply_token, km_buttons_template_message)\n",
      "  File \"/opt/conda/lib/python3.6/site-packages/linebot/api.py\", line 94, in reply_message\n",
      "    '/v2/bot/message/reply', data=json.dumps(data), timeout=timeout\n",
      "  File \"/opt/conda/lib/python3.6/site-packages/linebot/api.py\", line 372, in _post\n",
      "    self.__check_error(response)\n",
      "  File \"/opt/conda/lib/python3.6/site-packages/linebot/api.py\", line 381, in __check_error\n",
      "    raise LineBotApiError(response.status_code, error)\n",
      "linebot.exceptions.LineBotApiError: <LineBotApiError [A message (messages[0]) in the request body is invalid]>\n",
      "172.17.0.3 - - [30/Mar/2018 06:36:25] \"POST / HTTP/1.1\" 500 -\n"
     ]
    },
    {
     "name": "stdout",
     "output_type": "stream",
     "text": [
      "外星科幻\n",
      "分類\n",
      "['為你推薦以下三部電影', \"怪奇孤兒院 Miss Peregrine's Home for Peculiar Children\\nhttp://www.imdb.com/title/tt1935859\", '正宗哥吉拉 Shin Gojira\\nhttp://www.imdb.com/title/tt4262980', '星際爭霸戰 Star Trek\\nhttp://www.imdb.com/title/tt0796366']\n"
     ]
    },
    {
     "name": "stderr",
     "output_type": "stream",
     "text": [
      "[2018-03-30 06:36:30,626] ERROR in app: Exception on / [POST]\n",
      "Traceback (most recent call last):\n",
      "  File \"/opt/conda/lib/python3.6/site-packages/flask/app.py\", line 1982, in wsgi_app\n",
      "    response = self.full_dispatch_request()\n",
      "  File \"/opt/conda/lib/python3.6/site-packages/flask/app.py\", line 1614, in full_dispatch_request\n",
      "    rv = self.handle_user_exception(e)\n",
      "  File \"/opt/conda/lib/python3.6/site-packages/flask/app.py\", line 1517, in handle_user_exception\n",
      "    reraise(exc_type, exc_value, tb)\n",
      "  File \"/opt/conda/lib/python3.6/site-packages/flask/_compat.py\", line 33, in reraise\n",
      "    raise value\n",
      "  File \"/opt/conda/lib/python3.6/site-packages/flask/app.py\", line 1612, in full_dispatch_request\n",
      "    rv = self.dispatch_request()\n",
      "  File \"/opt/conda/lib/python3.6/site-packages/flask/app.py\", line 1598, in dispatch_request\n",
      "    return self.view_functions[rule.endpoint](**req.view_args)\n",
      "  File \"<ipython-input-150-55af8c245171>\", line 52, in callback\n",
      "    handler.handle(body, signature)\n",
      "  File \"/opt/conda/lib/python3.6/site-packages/linebot/webhook.py\", line 227, in handle\n",
      "    func(event)\n",
      "  File \"<ipython-input-150-55af8c245171>\", line 137, in handle_message\n",
      "    line_bot_api.reply_message(event.reply_token, km_buttons_template_message)\n",
      "  File \"/opt/conda/lib/python3.6/site-packages/linebot/api.py\", line 94, in reply_message\n",
      "    '/v2/bot/message/reply', data=json.dumps(data), timeout=timeout\n",
      "  File \"/opt/conda/lib/python3.6/site-packages/linebot/api.py\", line 372, in _post\n",
      "    self.__check_error(response)\n",
      "  File \"/opt/conda/lib/python3.6/site-packages/linebot/api.py\", line 381, in __check_error\n",
      "    raise LineBotApiError(response.status_code, error)\n",
      "linebot.exceptions.LineBotApiError: <LineBotApiError [A message (messages[0]) in the request body is invalid]>\n",
      "172.17.0.3 - - [30/Mar/2018 06:36:30] \"POST / HTTP/1.1\" 500 -\n",
      "172.17.0.3 - - [30/Mar/2018 06:36:34] \"POST / HTTP/1.1\" 200 -\n"
     ]
    },
    {
     "name": "stdout",
     "output_type": "stream",
     "text": [
      "殭屍\n",
      "分類\n",
      "['為你推薦以下三部電影', \"暫時停止呼吸 Don't Breathe\\nhttp://www.imdb.com/title/tt4160708\", '屍變 Evil Dead\\nhttp://www.imdb.com/title/tt1288558', '好友戀習簿 The F Word\\nhttp://www.imdb.com/title/tt1486834']\n"
     ]
    }
   ],
   "source": [
    "'''\n",
    "\n",
    "啟動Server\n",
    "\n",
    "'''\n",
    "\n",
    "# 引用Web Server套件\n",
    "from flask import Flask, request, abort\n",
    "\n",
    "# 從linebot 套件包裡引用 LineBotApi 與 WebhookHandler 類別\n",
    "from linebot import (\n",
    "    LineBotApi, WebhookHandler\n",
    ")\n",
    "\n",
    "# \n",
    "from linebot.exceptions import (\n",
    "    InvalidSignatureError\n",
    ")\n",
    "\n",
    "# 將消息模型，文字收取消息與文字寄發消息 引入\n",
    "from linebot.models import (\n",
    "    MessageEvent, TextMessage, TextSendMessage,PostbackEvent\n",
    ")\n",
    "\n",
    "\n",
    "\n",
    "app = Flask(__name__,static_url_path = \"/images\" , static_folder = \"../images/\" )\n",
    "\n",
    "\n",
    "\n",
    "\n",
    "\n",
    "\n",
    "\n",
    "\n",
    "# 生成實體物件\n",
    "line_bot_api = LineBotApi(secretFileContentJson.get(\"channel_access_token\"))\n",
    "handler = WebhookHandler(secretFileContentJson.get(\"secret_key\"))\n",
    "\n",
    "# 啟動server對外接口，使Line能丟消息進來\n",
    "@app.route(\"/\", methods=['POST'])\n",
    "def callback():\n",
    "    # get X-Line-Signature header value\n",
    "    signature = request.headers['X-Line-Signature']\n",
    "\n",
    "    # get request body as text\n",
    "    body = request.get_data(as_text=True)\n",
    "    app.logger.info(\"Request body: \" + body)\n",
    "\n",
    "    # handle webhook body\n",
    "    try:\n",
    "        handler.handle(body, signature)\n",
    "    except InvalidSignatureError:\n",
    "        abort(400)\n",
    "\n",
    "    return 'OK'\n",
    "\n",
    "buttons_template_message = TemplateSendMessage(\n",
    "    alt_text='Buttons template',\n",
    "    template=ButtonsTemplate(\n",
    "        thumbnail_image_url=secretFileContentJson.get(\"server_url\")+'/images/eddie.jpg',\n",
    "        title='推薦系統',\n",
    "        text='Please select',\n",
    "        actions=[\n",
    "            PostbackTemplateAction(\n",
    "                label='協同過濾',\n",
    "                text='',\n",
    "                data='輸入一部電影，找出最接近的三部'\n",
    "            ),\n",
    "            MessageTemplateAction(\n",
    "                label='分類推薦',\n",
    "                text='分類推薦'\n",
    "            ),\n",
    "            MessageTemplateAction(\n",
    "                label='近期上映',\n",
    "                text='近期上映電影'\n",
    "            )\n",
    "        ]\n",
    "    )\n",
    ")\n",
    "\n",
    "\n",
    "\n",
    "# 用戶發出文字消息時， 按條件內容, 回傳照片地圖\n",
    "@handler.add(MessageEvent, message=TextMessage)\n",
    "def handle_message(event):\n",
    "    print(event.message.text)\n",
    "    \n",
    "    if event.message.text == \"近期上映電影\":\n",
    "        content = movie()\n",
    "        line_bot_api.reply_message(\n",
    "            event.reply_token,\n",
    "            TextSendMessage(text=content))\n",
    "        return 0\n",
    "    if event.message.text == \"分類推薦\":\n",
    "        line_bot_api.reply_message(\n",
    "            event.reply_token,\n",
    "            carousel_template_message)\n",
    "        return 0\n",
    "    \n",
    "#     if (event.message.text in km_movie): \n",
    "#         content = get_3km_movies(event.message.text)\n",
    "#         line_bot_api.reply_message(\n",
    "#             event.reply_token,\n",
    "#             TextSendMessage(text=\"以下三部電影 : \"+\"\\n\"+ content[0]+\"\\n\"+ content[1]+\"\\n\"+ content[2])\n",
    "#             )\n",
    "#         return 0\n",
    "\n",
    "    if (event.message.text in km_movie):\n",
    "        content = get_3km_movies(event.message.text)\n",
    "        km_buttons_template_message = 0\n",
    "        km_buttons_template_message = TemplateSendMessage(\n",
    "            alt_text='Buttons template',\n",
    "            template=ButtonsTemplate(\n",
    "                  thumbnail_image_url='https://2646dfe4.ap.ngrok.io/images/ameica.jpg',\n",
    "                  title=event.message.text,\n",
    "                  text=content[0],\n",
    "                  actions=[\n",
    "                      URITemplateAction(\n",
    "                           label=content[1].split(\"\\n\")[0],\n",
    "                           uri=content[1].split(\"\\n\")[1]\n",
    "                           ),\n",
    "                       URITemplateAction(\n",
    "                           label=content[2].split(\"\\n\")[0],\n",
    "                           uri=content[2].split(\"\\n\")[1]\n",
    "                           ),\n",
    "                       URITemplateAction(\n",
    "                           label=content[3].split(\"\\n\")[0],\n",
    "                           uri=content[3].split(\"\\n\")[1]\n",
    "                          )\n",
    "                      ]\n",
    "                   )\n",
    "                )\n",
    "        \n",
    "        line_bot_api.reply_message(event.reply_token, km_buttons_template_message)\n",
    "        return 0\n",
    " \n",
    "    \n",
    "        \n",
    "#     if (event.message.text in cf_movie):        \n",
    "#         content = get_3cf_movies(event.message.text)\n",
    "#         line_bot_api.push_message(\n",
    "#             event.reply_token,\n",
    "#             TextSendMessage(text=\"以下三部電影 : \"+\"\\n\"+ content[0]+\"\\n\"+ content[1]+\"\\n\"+ content[2]+\"\\n\"+ content[3]))\n",
    "#         return 0\n",
    "     \n",
    "    line_bot_api.reply_message(\n",
    "        event.reply_token,\n",
    "        buttons_template_message)\n",
    "\n",
    "@handler.add(PostbackEvent)\n",
    "def handle_postback_message(event):\n",
    "    print(event)\n",
    "    line_bot_api.reply_message(\n",
    "        event.reply_token,\n",
    "        TextSendMessage(text=event.postback.data))     \n",
    "    \n",
    "if __name__ == \"__main__\":\n",
    "    app.run(host='0.0.0.0')\n",
    "\n",
    "    \n",
    "    \n",
    "    \n"
   ]
  },
  {
   "cell_type": "code",
   "execution_count": null,
   "metadata": {
    "collapsed": true
   },
   "outputs": [],
   "source": [
    "get_3cf_movies"
   ]
  },
  {
   "cell_type": "code",
   "execution_count": 124,
   "metadata": {},
   "outputs": [
    {
     "data": {
      "text/plain": [
       "['大英雄天團 Big Hero 6\\nhttp://www.imdb.com/title/tt2245084',\n",
       " '怪獸與牠們的產地 Fantastic Beasts and Where to Find Them\\nhttp://www.imdb.com/title/tt3183660',\n",
       " '水底情深 The Shape of Water\\nhttp://www.imdb.com/title/tt5580390',\n",
       " '為你推薦以下三部電影']"
      ]
     },
     "execution_count": 124,
     "metadata": {},
     "output_type": "execute_result"
    }
   ],
   "source": [
    "get_3km_movies(\"家庭喜劇\")"
   ]
  },
  {
   "cell_type": "code",
   "execution_count": 14,
   "metadata": {
    "collapsed": true
   },
   "outputs": [],
   "source": [
    "import sqlite3"
   ]
  },
  {
   "cell_type": "code",
   "execution_count": 22,
   "metadata": {},
   "outputs": [
    {
     "data": {
      "text/plain": [
       "['你輸入的電影是:  模仿遊戲\\n',\n",
       " '愛的萬物論 The Theory of Everything\\nhttp://www.imdb.com/title/tt2980516\\n',\n",
       " '絕地救援 The Martian\\nhttp://www.imdb.com/title/tt3659388\\n',\n",
       " '瘋狂麥斯：憤怒道 Mad Max: Fury Road\\nhttp://www.imdb.com/title/tt1392190\\n']"
      ]
     },
     "execution_count": 22,
     "metadata": {},
     "output_type": "execute_result"
    }
   ],
   "source": [
    "get_3cf_movies(\"模仿遊戲\")"
   ]
  },
  {
   "cell_type": "code",
   "execution_count": 112,
   "metadata": {},
   "outputs": [
    {
     "data": {
      "text/plain": [
       "['我就要你好好的 Me Before You', 'http://www.imdb.com/title/tt2674426']"
      ]
     },
     "execution_count": 112,
     "metadata": {},
     "output_type": "execute_result"
    }
   ],
   "source": [
    "get_3km_movies(\"愛情喜劇\")[1].split(\"\\n\")"
   ]
  },
  {
   "cell_type": "code",
   "execution_count": 113,
   "metadata": {
    "collapsed": true
   },
   "outputs": [],
   "source": [
    "# f= open(\"../data/output.csv\",encoding=\"utf8\")\n",
    "# km = pd.read_csv(f)"
   ]
  },
  {
   "cell_type": "code",
   "execution_count": 9,
   "metadata": {
    "collapsed": true
   },
   "outputs": [],
   "source": [
    "import pickle\n",
    "with open (\"../data/km_movie\",\"rb\") as f:\n",
    "    km_movie = pickle.load(f)\n",
    "with open (\"../data/movielist\",\"rb\") as f:\n",
    "    cf_movie = pickle.load(f)"
   ]
  },
  {
   "cell_type": "code",
   "execution_count": 58,
   "metadata": {},
   "outputs": [
    {
     "name": "stdout",
     "output_type": "stream",
     "text": [
      "yooooo\n"
     ]
    }
   ],
   "source": [
    "if (\"愛情喜劇\" in km_movie):\n",
    "    print(\"yooooo\")"
   ]
  },
  {
   "cell_type": "code",
   "execution_count": null,
   "metadata": {
    "collapsed": true
   },
   "outputs": [],
   "source": []
  }
 ],
 "metadata": {
  "kernelspec": {
   "display_name": "Python 3",
   "language": "python",
   "name": "python3"
  },
  "language_info": {
   "codemirror_mode": {
    "name": "ipython",
    "version": 3
   },
   "file_extension": ".py",
   "mimetype": "text/x-python",
   "name": "python",
   "nbconvert_exporter": "python",
   "pygments_lexer": "ipython3",
   "version": "3.6.3"
  }
 },
 "nbformat": 4,
 "nbformat_minor": 2
}
