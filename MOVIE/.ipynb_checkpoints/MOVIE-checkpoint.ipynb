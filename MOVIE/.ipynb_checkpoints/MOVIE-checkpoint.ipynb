{
 "cells": [
  {
   "cell_type": "code",
   "execution_count": 1,
   "metadata": {},
   "outputs": [],
   "source": [
    "'''\n",
    "\n",
    "菜單設定檔\n",
    "\n",
    "\n",
    "'''\n",
    "\n",
    "# 菜單json\n",
    "menuRawData=\"\"\"\n",
    "    {\n",
    "        \"size\":{\n",
    "            \"width\":2500,\n",
    "            \"height\":1686\n",
    "        },\n",
    "        \"selected\":true,\n",
    "        \"name\":\"Controller\",\n",
    "        \"chatBarText\":\"Controller\",\n",
    "        \"areas\":[\n",
    "            {\n",
    "              \"bounds\":{\n",
    "                  \"x\":551,\n",
    "                  \"y\":325,\n",
    "                  \"width\":321,\n",
    "                  \"height\":321\n",
    "              },\n",
    "              \"action\":{\n",
    "                  \"type\":\"message\",\n",
    "                  \"text\":\"up\"\n",
    "              }\n",
    "            },\n",
    "            {\n",
    "              \"bounds\":{\n",
    "                  \"x\":876,\n",
    "                  \"y\":651,\n",
    "                  \"width\":321,\n",
    "                  \"height\":321\n",
    "              },\n",
    "              \"action\":{\n",
    "                  \"type\":\"message\",\n",
    "                  \"text\":\"right\"\n",
    "              }\n",
    "            },\n",
    "            {\n",
    "              \"bounds\":{\n",
    "                  \"x\":551,\n",
    "                  \"y\":972,\n",
    "                  \"width\":321,\n",
    "                  \"height\":321\n",
    "              },\n",
    "              \"action\":{\n",
    "                  \"type\":\"message\",\n",
    "                  \"text\":\"down\"\n",
    "              }\n",
    "            },\n",
    "            {\n",
    "              \"bounds\":{\n",
    "                  \"x\":225,\n",
    "                  \"y\":651,\n",
    "                  \"width\":321,\n",
    "                  \"height\":321\n",
    "              },\n",
    "              \"action\":{\n",
    "                  \"type\":\"message\",\n",
    "                  \"text\":\"left\"\n",
    "              }\n",
    "            },\n",
    "            {\n",
    "              \"bounds\":{\n",
    "                  \"x\":1433,\n",
    "                  \"y\":657,\n",
    "                  \"width\":367,\n",
    "                  \"height\":367\n",
    "              },\n",
    "              \"action\":{\n",
    "                  \"type\":\"message\",\n",
    "                  \"text\":\"btn b\"\n",
    "              }\n",
    "            },\n",
    "            {\n",
    "              \"bounds\":{\n",
    "                  \"x\":1907,\n",
    "                  \"y\":657,\n",
    "                  \"width\":367,\n",
    "                  \"height\":367\n",
    "              },\n",
    "              \"action\":{\n",
    "                  \"type\":\"message\",\n",
    "                  \"text\":\"btn a\"\n",
    "              }\n",
    "            }\n",
    "        ]\n",
    "      }\"\"\""
   ]
  },
  {
   "cell_type": "code",
   "execution_count": 2,
   "metadata": {},
   "outputs": [
    {
     "name": "stdout",
     "output_type": "stream",
     "text": [
      "IeGvw65oGr6e8rmod7Q05mb/dtHZvkU/0m7KreX3OZ3dPCAoSqgwdmq9pTpLG/R58E1ABc9AccY+V+uJ6KAxWHqpD1pU813A1U2vN1/y3Mz30Nz3ZHTtaRybd5Q2kI34jSEo+pjBRCPiOhCf51+vQgdB04t89/1O/w1cDnyilFU=\n",
      "24af5a3854875915b95fb8331444188e\n",
      "Ubc0b30b89a615fcb7b03337ce7b14772\n"
     ]
    }
   ],
   "source": [
    "'''\n",
    "\n",
    "讀取安全檔案內的字串，塞回變數中。\n",
    "\n",
    "'''\n",
    "import json\n",
    "secretFileContentJson=json.load(open(\"../line_secret_key\",'r',encoding=\"utf8\"))\n",
    "\n",
    "print(secretFileContentJson.get(\"channel_access_token\"))\n",
    "print(secretFileContentJson.get(\"secret_key\"))\n",
    "print(secretFileContentJson.get(\"self_user_id\"))\n",
    "print()\n"
   ]
  },
  {
   "cell_type": "code",
   "execution_count": 7,
   "metadata": {},
   "outputs": [
    {
     "name": "stdout",
     "output_type": "stream",
     "text": [
      "https://1baa52fb.ap.ngrok.io\n"
     ]
    }
   ],
   "source": [
    "print(secretFileContentJson.get(\"server_url\"))"
   ]
  },
  {
   "cell_type": "code",
   "execution_count": 31,
   "metadata": {},
   "outputs": [
    {
     "name": "stdout",
     "output_type": "stream",
     "text": [
      "Start parsing movie ...\n"
     ]
    },
    {
     "data": {
      "text/plain": [
       "'\\n一級玩家\\nhttp://www.atmovies.com.tw/movie/fren41677720/\\n\\n劇場版無敵鐵金剛INFINITY\\nhttp://www.atmovies.com.tw/movie/fmja96470762/\\n\\n老闆好壞\\nhttp://www.atmovies.com.tw/movie/faus53721964/\\n\\n厄月驚魂曲\\nhttp://www.atmovies.com.tw/movie/ffen43286052/\\n\\n多桑不在家\\nhttp://www.atmovies.com.tw/movie/fbjp56640390/\\n\\n全員死刑\\nhttp://www.atmovies.com.tw/movie/fdjp46598202/\\n\\n消屍的夜晚\\nhttp://www.atmovies.com.tw/movie/fhkr56955298/\\n\\n異端邪降\\nhttp://www.atmovies.com.tw/movie/fhen46318848/\\n\\n有一種喜歡\\nhttp://www.atmovies.com.tw/movie/facn51687855/\\n\\n小活佛\\nhttp://www.atmovies.com.tw/movie/fVatm0853013/\\n\\n2018第八屆台灣國際兒童影展\\nhttp://www.atmovies.com.tw/movie/A12018033001/\\n\\n最酷的旅伴\\nhttp://www.atmovies.com.tw/movie/fvfr55598102/\\n\\n卡拉絲：為愛而聲\\nhttp://www.atmovies.com.tw/movie/fmen77364566/\\n\\n比得兔\\nhttp://www.atmovies.com.tw/movie/fpen35117670/\\n\\n恩德培行動\\nhttp://www.atmovies.com.tw/movie/feen55466186/\\n\\n魔女席瑪\\nhttp://www.atmovies.com.tw/movie/ftno26304046/\\n\\n糯爾摩斯\\nhttp://www.atmovies.com.tw/movie/fgen82296777/\\n\\n寂寞大師\\nhttp://www.atmovies.com.tw/movie/ffen64494718/\\n\\n噤界\\nhttp://www.atmovies.com.tw/movie/faen46644200/\\n\\n雨妳再次相遇\\nhttp://www.atmovies.com.tw/movie/fbkr69020409/\\n'"
      ]
     },
     "execution_count": 31,
     "metadata": {},
     "output_type": "execute_result"
    }
   ],
   "source": [
    "movie()"
   ]
  },
  {
   "cell_type": "code",
   "execution_count": 33,
   "metadata": {},
   "outputs": [
    {
     "name": "stderr",
     "output_type": "stream",
     "text": [
      " * Running on http://0.0.0.0:5000/ (Press CTRL+C to quit)\n",
      "172.17.0.1 - - [27/Mar/2018 06:44:25] \"POST / HTTP/1.1\" 200 -\n"
     ]
    },
    {
     "name": "stdout",
     "output_type": "stream",
     "text": [
      "Start parsing movie ...\n"
     ]
    },
    {
     "name": "stderr",
     "output_type": "stream",
     "text": [
      "172.17.0.1 - - [27/Mar/2018 06:44:28] \"POST / HTTP/1.1\" 200 -\n",
      "172.17.0.1 - - [27/Mar/2018 06:48:48] \"POST / HTTP/1.1\" 200 -\n"
     ]
    },
    {
     "name": "stdout",
     "output_type": "stream",
     "text": [
      "Start parsing movie ...\n"
     ]
    },
    {
     "name": "stderr",
     "output_type": "stream",
     "text": [
      "172.17.0.1 - - [27/Mar/2018 06:48:56] \"POST / HTTP/1.1\" 200 -\n",
      "172.17.0.1 - - [27/Mar/2018 06:49:04] \"POST / HTTP/1.1\" 200 -\n",
      "172.17.0.1 - - [27/Mar/2018 06:49:04] \"POST / HTTP/1.1\" 200 -\n"
     ]
    },
    {
     "name": "stdout",
     "output_type": "stream",
     "text": [
      "Start parsing movie ...\n"
     ]
    },
    {
     "name": "stderr",
     "output_type": "stream",
     "text": [
      "172.17.0.1 - - [27/Mar/2018 06:55:27] \"POST / HTTP/1.1\" 200 -\n"
     ]
    }
   ],
   "source": [
    "\n",
    "from flask import Flask, request, abort\n",
    "\n",
    "from linebot import (\n",
    "    LineBotApi, WebhookHandler\n",
    ")\n",
    "from linebot.exceptions import (\n",
    "    InvalidSignatureError\n",
    ")\n",
    "from linebot.models import (\n",
    "    MessageEvent, TextMessage, TextSendMessage,TemplateSendMessage,PostbackEvent \n",
    ")\n",
    "\n",
    "from linebot.models.template import (\n",
    "    ButtonsTemplate,PostbackTemplateAction,MessageTemplateAction,URITemplateAction\n",
    ")\n",
    "\n",
    "app = Flask(__name__,static_url_path = \"/images\" , static_folder = \"./images/\" )\n",
    "\n",
    "# create a instance for line\n",
    "# line_bot_api 用來處理消息\n",
    "line_bot_api = LineBotApi(secretFileContentJson.get(\"channel_access_token\"))\n",
    "\n",
    "# 用來接收外部消息\n",
    "handler = WebhookHandler(secretFileContentJson.get(\"secret_key\"))\n",
    "\n",
    "@app.route(\"/\", methods=['POST'])\n",
    "def callback():\n",
    "    # get X-Line-Signature header value\n",
    "    signature = request.headers['X-Line-Signature']\n",
    "\n",
    "    # get request body as text\n",
    "    body = request.get_data(as_text=True)\n",
    "    app.logger.info(\"Request body: \" + body)\n",
    "\n",
    "    # handle webhook body 驗證封包是否來自Line\n",
    "    try:\n",
    "        handler.handle(body, signature)\n",
    "    except InvalidSignatureError:\n",
    "        abort(400)\n",
    "\n",
    "    return 'OK'\n",
    "    \n",
    "buttons_template_message = TemplateSendMessage(\n",
    "    alt_text='Buttons template',\n",
    "    template=ButtonsTemplate(\n",
    "        thumbnail_image_url=secretFileContentJson.get(\"server_url\")+'/images/eddie.jpg',\n",
    "        title='推薦系統',\n",
    "        text='Please select',\n",
    "        actions=[\n",
    "            PostbackTemplateAction(\n",
    "                label='協同過濾',\n",
    "                text='同時也可以讓用戶發送文字訊息',\n",
    "                data='action=buy&itemid=1'\n",
    "            ),\n",
    "            MessageTemplateAction(\n",
    "                label='分類推薦',\n",
    "                text='資策會聊天機器人'\n",
    "            ),\n",
    "            MessageTemplateAction(\n",
    "                label='近期上映',\n",
    "                text='近期上映電影'\n",
    "            )\n",
    "#             URITemplateAction(\n",
    "#                 label='近期上映電影',\n",
    "#                 uri=\"http://www.youtube.com\"\n",
    "#             )\n",
    "        ]\n",
    "    )\n",
    ")\n",
    "    \n",
    "@handler.add(MessageEvent, message=TextMessage)\n",
    "def handle_message(event):\n",
    "\n",
    "    if event.message.text == \"協同過濾\":\n",
    "        content = movie()\n",
    "        line_bot_api.reply_message(\n",
    "            event.reply_token,\n",
    "            TextSendMessage(text=content))\n",
    "        return 0\n",
    "    if event.message.text == \"分類推薦\":\n",
    "        content = movie()\n",
    "        line_bot_api.reply_message(\n",
    "            event.reply_token,\n",
    "            TextSendMessage(text=content))\n",
    "        return 0\n",
    "    if event.message.text == \"近期上映電影\":\n",
    "        content = movie()\n",
    "        line_bot_api.reply_message(\n",
    "            event.reply_token,\n",
    "            TextSendMessage(text=content))\n",
    "        return 0\n",
    "    \n",
    "    \n",
    "    \n",
    "    \n",
    "    line_bot_api.reply_message(\n",
    "        event.reply_token,\n",
    "        buttons_template_message)\n",
    "        \n",
    "@handler.add(PostbackEvent)\n",
    "def handle_postback_message(event):\n",
    "    line_bot_api.reply_message(\n",
    "        event.reply_token,\n",
    "        TextSendMessage(text=event.postback.data))        \n",
    "        \n",
    "if __name__ == \"__main__\":\n",
    "    app.run(host='0.0.0.0')"
   ]
  },
  {
   "cell_type": "code",
   "execution_count": 29,
   "metadata": {},
   "outputs": [
    {
     "name": "stderr",
     "output_type": "stream",
     "text": [
      " * Running on http://127.0.0.1:5000/ (Press CTRL+C to quit)\n"
     ]
    }
   ],
   "source": [
    "import requests\n",
    "import re\n",
    "import random\n",
    "import configparser\n",
    "from bs4 import BeautifulSoup\n",
    "from flask import Flask, request, abort\n",
    "from imgurpython import ImgurClient\n",
    "\n",
    "from linebot import (\n",
    "    LineBotApi, WebhookHandler\n",
    ")\n",
    "from linebot.exceptions import (\n",
    "    InvalidSignatureError\n",
    ")\n",
    "from linebot.models import *\n",
    "\n",
    "app = Flask(__name__)\n",
    "\n",
    "line_bot_api = LineBotApi(secretFileContentJson.get(\"channel_access_token\"))\n",
    "handler = WebhookHandler(secretFileContentJson.get(\"server_url\"))\n",
    "client_id = secretFileContentJson.get(\"self_user_id\")\n",
    "# client_secret = config['imgur_api']['Client_Secret']\n",
    "# album_id = config['imgur_api']['Album_ID']\n",
    "# API_Get_Image = config['other_api']['API_Get_Image']\n",
    "\n",
    "\n",
    "@app.route(\"/callback\", methods=['POST'])\n",
    "def callback():\n",
    "    # get X-Line-Signature header value\n",
    "    signature = request.headers['X-Line-Signature']\n",
    "\n",
    "    # get request body as text\n",
    "    body = request.get_data(as_text=True)\n",
    "    # print(\"body:\",body)\n",
    "    app.logger.info(\"Request body: \" + body)\n",
    "\n",
    "    # handle webhook body\n",
    "    try:\n",
    "        handler.handle(body, signature)\n",
    "    except InvalidSignatureError:\n",
    "        abort(400)\n",
    "\n",
    "    return 'ok'\n",
    "\n",
    "\n",
    "\n",
    "def movie():\n",
    "    target_url = 'http://www.atmovies.com.tw/movie/next/0/'\n",
    "    print('Start parsing movie ...')\n",
    "    rs = requests.session()\n",
    "    res = rs.get(target_url, verify=False)\n",
    "    res.encoding = 'utf-8'\n",
    "    soup = BeautifulSoup(res.text, 'html.parser')\n",
    "    content = \"\"\n",
    "    for index, data in enumerate(soup.select('ul.filmNextListAll a')):\n",
    "        if index == 20:\n",
    "            return content\n",
    "        title = data.text.replace('\\t', '').replace('\\r', '')\n",
    "        link = \"http://www.atmovies.com.tw\" + data['href']\n",
    "        content += '{}\\n{}\\n'.format(title, link)\n",
    "    return content\n",
    "\n",
    "\n",
    "\n",
    "@handler.add(MessageEvent, message=TextMessage)\n",
    "def handle_message(event):\n",
    "    print(\"event.reply_token:\", event.reply_token)\n",
    "    print(\"event.message.text:\", event.message.text)\n",
    "\n",
    "    if event.message.text == \"近期上映電影\":\n",
    "        content = movie()\n",
    "        line_bot_api.reply_message(\n",
    "            event.reply_token,\n",
    "            TextSendMessage(text=content))\n",
    "        return 0\n",
    " \n",
    "    line_bot_api.reply_message(event.reply_token, buttons_template)\n",
    "\n",
    "\n",
    "if __name__ == '__main__':\n",
    "    app.run()\n"
   ]
  },
  {
   "cell_type": "code",
   "execution_count": null,
   "metadata": {},
   "outputs": [],
   "source": []
  },
  {
   "cell_type": "code",
   "execution_count": null,
   "metadata": {},
   "outputs": [],
   "source": []
  },
  {
   "cell_type": "code",
   "execution_count": null,
   "metadata": {},
   "outputs": [],
   "source": []
  },
  {
   "cell_type": "code",
   "execution_count": null,
   "metadata": {},
   "outputs": [],
   "source": []
  }
 ],
 "metadata": {
  "kernelspec": {
   "display_name": "Python 3",
   "language": "python",
   "name": "python3"
  },
  "language_info": {
   "codemirror_mode": {
    "name": "ipython",
    "version": 3
   },
   "file_extension": ".py",
   "mimetype": "text/x-python",
   "name": "python",
   "nbconvert_exporter": "python",
   "pygments_lexer": "ipython3",
   "version": "3.6.4"
  }
 },
 "nbformat": 4,
 "nbformat_minor": 2
}
