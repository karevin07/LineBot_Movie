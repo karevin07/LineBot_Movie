{
 "cells": [
  {
   "cell_type": "code",
   "execution_count": 7,
   "metadata": {},
   "outputs": [],
   "source": [
    "import pandas as pd\n",
    "import sqlite3"
   ]
  },
  {
   "cell_type": "code",
   "execution_count": 2,
   "metadata": {},
   "outputs": [],
   "source": [
    "import sqlite3"
   ]
  },
  {
   "cell_type": "code",
   "execution_count": 21,
   "metadata": {},
   "outputs": [],
   "source": [
    "conn = sqlite3.connect('movie_km.db')"
   ]
  },
  {
   "cell_type": "code",
   "execution_count": 22,
   "metadata": {},
   "outputs": [],
   "source": [
    "cur = conn.cursor()"
   ]
  },
  {
   "cell_type": "code",
   "execution_count": 5,
   "metadata": {},
   "outputs": [],
   "source": [
    "cur = conn.cursor()\n",
    "cur.execute(\"\"\"CREATE TABLE Movie_cf (\n",
    "movie int,\n",
    "C_name0 VARCHAR(500),\n",
    "year0 int,\n",
    "E_name0 VARCHAR(500),\n",
    "C_name1 VARCHAR(500),\n",
    "year1 int,\n",
    "E_name1 VARCHAR(500),\n",
    "similarity1 DOUBLE,\n",
    "url1 VARCHAR(500),\n",
    "C_name2 VARCHAR(500),\n",
    "year2 int,\n",
    "E_name2 VARCHAR(500),\n",
    "similarity2 DOUBLE,\n",
    "url2 VARCHAR(500),\n",
    "C_name3 VARCHAR(500),\n",
    "year3 int,\n",
    "E_name3 VARCHAR(500),\n",
    "similarity3 DOUBLE,\n",
    "url3  VARCHAR(500)    \n",
    ")\"\"\")\n",
    "conn.commit()"
   ]
  },
  {
   "cell_type": "code",
   "execution_count": 8,
   "metadata": {},
   "outputs": [],
   "source": [
    "df = pd.read_csv(\"output_final.csv\",encoding=\"utf8\") "
   ]
  },
  {
   "cell_type": "code",
   "execution_count": 24,
   "metadata": {},
   "outputs": [],
   "source": [
    "df2 = pd.read_csv(\"output.csv\",encoding=\"utf8\") "
   ]
  },
  {
   "cell_type": "code",
   "execution_count": 25,
   "metadata": {},
   "outputs": [],
   "source": [
    "test = df2.values.tolist()"
   ]
  },
  {
   "cell_type": "code",
   "execution_count": 26,
   "metadata": {},
   "outputs": [
    {
     "data": {
      "text/plain": [
       "['風起',\n",
       " 1,\n",
       " '科幻',\n",
       " 2,\n",
       " '科幻奇幻',\n",
       " 48,\n",
       " 'tt2013293',\n",
       " 'Kaze tachinu',\n",
       " 2013,\n",
       " 'http://www.imdb.com/title/tt2013293']"
      ]
     },
     "execution_count": 26,
     "metadata": {},
     "output_type": "execute_result"
    }
   ],
   "source": [
    "test[5]"
   ]
  },
  {
   "cell_type": "code",
   "execution_count": 23,
   "metadata": {},
   "outputs": [],
   "source": [
    "cur.execute(\"\"\"CREATE TABLE Movie_km (\n",
    "C_name VARCHAR(500),\n",
    "tags1 VARCHAR(500),\n",
    "class1 VARCHAR(500),\n",
    "tags2 VARCHAR(500),\n",
    "class2 VARCHAR(500),\n",
    "views int,\n",
    "IDofIMDB VARCHAR(500),\n",
    "E_name VARCHAR(500),\n",
    "year int,\n",
    "url VARCHAR(500)\n",
    ")\"\"\")\n",
    "conn.commit()"
   ]
  },
  {
   "cell_type": "code",
   "execution_count": 27,
   "metadata": {},
   "outputs": [],
   "source": [
    "for i in test:\n",
    "    cur.execute(\"\"\"INSERT INTO Movie_km VALUES (?, ?, ?, ?, ?, ?, ?, ?, ?, ?)\"\"\",\n",
    "                 (\n",
    "                         i[0],\n",
    "                         i[1],\n",
    "                         i[2],\n",
    "                         i[3],\n",
    "                         i[4],\n",
    "                         i[5],\n",
    "                         i[6],\n",
    "                         i[7],\n",
    "                         i[8],\n",
    "                         i[9]\n",
    "                        )\n",
    "               )\n",
    "conn.commit()\n",
    "conn.close()"
   ]
  },
  {
   "cell_type": "code",
   "execution_count": 11,
   "metadata": {},
   "outputs": [],
   "source": [
    "for i in test:\n",
    "    cur.execute(\"\"\"INSERT INTO Movie_cf VALUES (?, ?, ?, ?, ?, ?, ?, ?, ?, ?, ?, ?, ?, ?, ?, ?, ?, ?, ?)\"\"\",\n",
    "                 (\n",
    "                         i[0],\n",
    "                         i[1],\n",
    "                         i[2],\n",
    "                         i[3],\n",
    "                         i[4],\n",
    "                         i[5],\n",
    "                         i[6],\n",
    "                         i[7],\n",
    "                         i[8],\n",
    "                         i[9],\n",
    "                         i[10],\n",
    "                         i[11],\n",
    "                         i[12],\n",
    "                         i[13],\n",
    "                         i[14],\n",
    "                         i[15],\n",
    "                         i[16],\n",
    "                         i[17],\n",
    "                         i[18]\n",
    "                        )\n",
    "               )\n",
    "conn.commit()\n",
    "conn.close()"
   ]
  },
  {
   "cell_type": "code",
   "execution_count": null,
   "metadata": {},
   "outputs": [],
   "source": []
  },
  {
   "cell_type": "code",
   "execution_count": 190,
   "metadata": {},
   "outputs": [],
   "source": [
    "conn.commit()"
   ]
  },
  {
   "cell_type": "code",
   "execution_count": null,
   "metadata": {},
   "outputs": [],
   "source": []
  },
  {
   "cell_type": "code",
   "execution_count": 218,
   "metadata": {},
   "outputs": [
    {
     "data": {
      "text/html": [
       "<div>\n",
       "<style scoped>\n",
       "    .dataframe tbody tr th:only-of-type {\n",
       "        vertical-align: middle;\n",
       "    }\n",
       "\n",
       "    .dataframe tbody tr th {\n",
       "        vertical-align: top;\n",
       "    }\n",
       "\n",
       "    .dataframe thead th {\n",
       "        text-align: right;\n",
       "    }\n",
       "</style>\n",
       "<table border=\"1\" class=\"dataframe\">\n",
       "  <thead>\n",
       "    <tr style=\"text-align: right;\">\n",
       "      <th></th>\n",
       "      <th>C_name</th>\n",
       "      <th>tags1</th>\n",
       "      <th>class1</th>\n",
       "      <th>tags2</th>\n",
       "      <th>class2</th>\n",
       "      <th>views</th>\n",
       "      <th>IDofIMDB</th>\n",
       "      <th>E_name</th>\n",
       "      <th>year</th>\n",
       "      <th>url</th>\n",
       "    </tr>\n",
       "  </thead>\n",
       "  <tbody>\n",
       "    <tr>\n",
       "      <th>0</th>\n",
       "      <td>星際效應</td>\n",
       "      <td>1</td>\n",
       "      <td>科幻</td>\n",
       "      <td>1</td>\n",
       "      <td>外星科幻</td>\n",
       "      <td>143</td>\n",
       "      <td>tt0816692</td>\n",
       "      <td>Interstellar</td>\n",
       "      <td>2014</td>\n",
       "      <td>http://www.imdb.com/title/tt0816692</td>\n",
       "    </tr>\n",
       "    <tr>\n",
       "      <th>1</th>\n",
       "      <td>露西</td>\n",
       "      <td>1</td>\n",
       "      <td>科幻</td>\n",
       "      <td>1</td>\n",
       "      <td>外星科幻</td>\n",
       "      <td>80</td>\n",
       "      <td>tt2872732</td>\n",
       "      <td>Lucy</td>\n",
       "      <td>2014</td>\n",
       "      <td>http://www.imdb.com/title/tt2872732</td>\n",
       "    </tr>\n",
       "    <tr>\n",
       "      <th>2</th>\n",
       "      <td>正宗哥吉拉</td>\n",
       "      <td>1</td>\n",
       "      <td>科幻</td>\n",
       "      <td>1</td>\n",
       "      <td>外星科幻</td>\n",
       "      <td>29</td>\n",
       "      <td>tt4262980</td>\n",
       "      <td>Shin Gojira</td>\n",
       "      <td>2016</td>\n",
       "      <td>http://www.imdb.com/title/tt4262980</td>\n",
       "    </tr>\n",
       "    <tr>\n",
       "      <th>3</th>\n",
       "      <td>異星入境</td>\n",
       "      <td>1</td>\n",
       "      <td>科幻</td>\n",
       "      <td>1</td>\n",
       "      <td>外星科幻</td>\n",
       "      <td>26</td>\n",
       "      <td>tt2543164</td>\n",
       "      <td>Arrival</td>\n",
       "      <td>2016</td>\n",
       "      <td>http://www.imdb.com/title/tt2543164</td>\n",
       "    </tr>\n",
       "    <tr>\n",
       "      <th>4</th>\n",
       "      <td>怪奇孤兒院</td>\n",
       "      <td>1</td>\n",
       "      <td>科幻</td>\n",
       "      <td>1</td>\n",
       "      <td>外星科幻</td>\n",
       "      <td>15</td>\n",
       "      <td>tt1935859</td>\n",
       "      <td>Miss Peregrine's Home for Peculiar Children</td>\n",
       "      <td>2016</td>\n",
       "      <td>http://www.imdb.com/title/tt1935859</td>\n",
       "    </tr>\n",
       "  </tbody>\n",
       "</table>\n",
       "</div>"
      ],
      "text/plain": [
       "  C_name tags1 class1 tags2 class2  views   IDofIMDB  \\\n",
       "0   星際效應     1     科幻     1   外星科幻    143  tt0816692   \n",
       "1     露西     1     科幻     1   外星科幻     80  tt2872732   \n",
       "2  正宗哥吉拉     1     科幻     1   外星科幻     29  tt4262980   \n",
       "3   異星入境     1     科幻     1   外星科幻     26  tt2543164   \n",
       "4  怪奇孤兒院     1     科幻     1   外星科幻     15  tt1935859   \n",
       "\n",
       "                                        E_name  year  \\\n",
       "0                                 Interstellar  2014   \n",
       "1                                         Lucy  2014   \n",
       "2                                  Shin Gojira  2016   \n",
       "3                                      Arrival  2016   \n",
       "4  Miss Peregrine's Home for Peculiar Children  2016   \n",
       "\n",
       "                                   url  \n",
       "0  http://www.imdb.com/title/tt0816692  \n",
       "1  http://www.imdb.com/title/tt2872732  \n",
       "2  http://www.imdb.com/title/tt4262980  \n",
       "3  http://www.imdb.com/title/tt2543164  \n",
       "4  http://www.imdb.com/title/tt1935859  "
      ]
     },
     "execution_count": 218,
     "metadata": {},
     "output_type": "execute_result"
    }
   ],
   "source": [
    "df3 = pd.read_sql_query(\"select * from Movie_km limit 5;\", conn)\n",
    "df3"
   ]
  },
  {
   "cell_type": "code",
   "execution_count": null,
   "metadata": {},
   "outputs": [],
   "source": []
  },
  {
   "cell_type": "code",
   "execution_count": null,
   "metadata": {},
   "outputs": [],
   "source": []
  },
  {
   "cell_type": "code",
   "execution_count": null,
   "metadata": {},
   "outputs": [],
   "source": []
  },
  {
   "cell_type": "code",
   "execution_count": 219,
   "metadata": {},
   "outputs": [],
   "source": [
    "sql = '''\n",
    "        select C_name0,(C_name1||' '||E_name1),(C_name2||' '||E_name2),(C_name3||' '||E_name3),url1,url2,url3\n",
    "        from Movie_cf\n",
    "        where C_name0 like '%{}%';\n",
    "    '''"
   ]
  },
  {
   "cell_type": "code",
   "execution_count": null,
   "metadata": {},
   "outputs": [],
   "source": []
  },
  {
   "cell_type": "code",
   "execution_count": 220,
   "metadata": {},
   "outputs": [],
   "source": [
    "def get_3cf_movies(string):\n",
    "    conn = sqlite3.connect('../data/movie_cf.db')\n",
    "    cur = conn.cursor()\n",
    "    if(cur.execute(sql.format(string))):\n",
    "        out = cur.fetchone()\n",
    "    else:\n",
    "        out = \"沒有你要的電影，看別的啦幹\"\n",
    "    if(out != \"沒有你要的電影，看別的啦幹\"):\n",
    "        output = []\n",
    "        movie = {}\n",
    "        movie[out[1]] = out[4]\n",
    "        movie[out[2]] = out[5]\n",
    "        movie[out[3]] = out[6]\n",
    "        output.append(out[0])\n",
    "        output.append(movie)\n",
    "        conn.commit()\n",
    "        conn.close()\n",
    "        return output"
   ]
  },
  {
   "cell_type": "code",
   "execution_count": 222,
   "metadata": {},
   "outputs": [],
   "source": [
    "def get_moreclass(string):\n",
    "    a=[]\n",
    "    if(string == \"科幻\"):\n",
    "        a = ['外星科幻','科幻奇幻','科幻動作']\n",
    "    elif(string == \"恐怖\"):\n",
    "        a = ['恐怖驚悚','殭屍','現代恐怖']\n",
    "    elif(string == \"動作\"):\n",
    "        a = ['動作武打','動作英雄','動作戰爭']\n",
    "    elif(string == \"喜劇\"):\n",
    "        a = ['家庭喜劇','動畫喜劇','愛情喜劇']\n",
    "    elif(string == \"劇情\"):\n",
    "        a = ['社會寫實','劇情傳記','懸疑推理']\n",
    "    return a"
   ]
  },
  {
   "cell_type": "code",
   "execution_count": 226,
   "metadata": {},
   "outputs": [],
   "source": [
    "sql2 = '''\n",
    "        select (C_name||' '||E_name),url\n",
    "        from Movie_km\n",
    "        where class2 like '%{}%'\n",
    "        ORDER BY RANDOM()\n",
    "        limit 3;\n",
    "    '''"
   ]
  },
  {
   "cell_type": "code",
   "execution_count": 227,
   "metadata": {},
   "outputs": [],
   "source": [
    "def get_3km_movies(string):\n",
    "    conn = sqlite3.connect('../data/movie_km.db')\n",
    "    cur = conn.cursor()\n",
    "\n",
    "    if(cur.execute(sql2.format(string))):\n",
    "        out = cur.fetchall()\n",
    "    else:\n",
    "        out = \"沒有你要的電影，看別的啦幹\"\n",
    "    conn.commit()\n",
    "    conn.close()\n",
    "    return out"
   ]
  },
  {
   "cell_type": "markdown",
   "metadata": {},
   "source": [
    "# TEST"
   ]
  },
  {
   "cell_type": "code",
   "execution_count": 221,
   "metadata": {},
   "outputs": [
    {
     "data": {
      "text/plain": [
       "['美國隊長2：酷寒戰士',\n",
       " {'X戰警：未來昔日 X-Men: Days of Future Past': 'http://www.imdb.com/title/tt1877832',\n",
       "  '明日邊界 Edge of Tomorrow': 'http://www.imdb.com/title/tt1631867',\n",
       "  '星際異攻隊 Guardians of the Galaxy': 'http://www.imdb.com/title/tt2015381'}]"
      ]
     },
     "execution_count": 221,
     "metadata": {},
     "output_type": "execute_result"
    }
   ],
   "source": [
    "get_3cf_movies(\"美國隊長\")"
   ]
  },
  {
   "cell_type": "code",
   "execution_count": 228,
   "metadata": {},
   "outputs": [
    {
     "data": {
      "text/plain": [
       "[('星際效應 Interstellar', 'http://www.imdb.com/title/tt0816692'),\n",
       " ('異星入境 Arrival', 'http://www.imdb.com/title/tt2543164'),\n",
       " (\"怪奇孤兒院 Miss Peregrine's Home for Peculiar Children\",\n",
       "  'http://www.imdb.com/title/tt1935859')]"
      ]
     },
     "execution_count": 228,
     "metadata": {},
     "output_type": "execute_result"
    }
   ],
   "source": [
    "get_3km_movies(\"外星科幻\")"
   ]
  },
  {
   "cell_type": "code",
   "execution_count": 229,
   "metadata": {},
   "outputs": [],
   "source": [
    "conn.close()"
   ]
  },
  {
   "cell_type": "code",
   "execution_count": null,
   "metadata": {},
   "outputs": [],
   "source": []
  }
 ],
 "metadata": {
  "kernelspec": {
   "display_name": "Python 3",
   "language": "python",
   "name": "python3"
  },
  "language_info": {
   "codemirror_mode": {
    "name": "ipython",
    "version": 3
   },
   "file_extension": ".py",
   "mimetype": "text/x-python",
   "name": "python",
   "nbconvert_exporter": "python",
   "pygments_lexer": "ipython3",
   "version": "3.6.4"
  }
 },
 "nbformat": 4,
 "nbformat_minor": 2
}
